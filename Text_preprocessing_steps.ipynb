{
 "cells": [
  {
   "cell_type": "code",
   "execution_count": 2,
   "id": "61495d94",
   "metadata": {},
   "outputs": [],
   "source": [
    "import pandas as pd\n",
    "import numpy as np\n",
    "import os"
   ]
  },
  {
   "cell_type": "markdown",
   "id": "56cae91c",
   "metadata": {},
   "source": [
    "#  Lower casing the text"
   ]
  },
  {
   "cell_type": "code",
   "execution_count": 48,
   "id": "4c54ee46",
   "metadata": {},
   "outputs": [],
   "source": [
    "string = \"SURE, HERE</a></p>IS SOME TEXT IN UPPER CASE. I HOPE THIS MEETS YOUR REQUIREMENTS!\""
   ]
  },
  {
   "cell_type": "code",
   "execution_count": 4,
   "id": "3a3e44e0",
   "metadata": {},
   "outputs": [],
   "source": [
    "data  = pd.read_csv(\"imdb_top_1000.csv\")"
   ]
  },
  {
   "cell_type": "code",
   "execution_count": 5,
   "id": "46d40bb4",
   "metadata": {},
   "outputs": [
    {
     "data": {
      "text/html": [
       "<div>\n",
       "<style scoped>\n",
       "    .dataframe tbody tr th:only-of-type {\n",
       "        vertical-align: middle;\n",
       "    }\n",
       "\n",
       "    .dataframe tbody tr th {\n",
       "        vertical-align: top;\n",
       "    }\n",
       "\n",
       "    .dataframe thead th {\n",
       "        text-align: right;\n",
       "    }\n",
       "</style>\n",
       "<table border=\"1\" class=\"dataframe\">\n",
       "  <thead>\n",
       "    <tr style=\"text-align: right;\">\n",
       "      <th></th>\n",
       "      <th>Poster_Link</th>\n",
       "      <th>Series_Title</th>\n",
       "      <th>Released_Year</th>\n",
       "      <th>Certificate</th>\n",
       "      <th>Runtime</th>\n",
       "      <th>Genre</th>\n",
       "      <th>IMDB_Rating</th>\n",
       "      <th>Overview</th>\n",
       "      <th>Meta_score</th>\n",
       "      <th>Director</th>\n",
       "      <th>Star1</th>\n",
       "      <th>Star2</th>\n",
       "      <th>Star3</th>\n",
       "      <th>Star4</th>\n",
       "      <th>No_of_Votes</th>\n",
       "      <th>Gross</th>\n",
       "    </tr>\n",
       "  </thead>\n",
       "  <tbody>\n",
       "    <tr>\n",
       "      <th>0</th>\n",
       "      <td>https://m.media-amazon.com/images/M/MV5BMDFkYT...</td>\n",
       "      <td>The Shawshank Redemption</td>\n",
       "      <td>1994</td>\n",
       "      <td>A</td>\n",
       "      <td>142 min</td>\n",
       "      <td>Drama</td>\n",
       "      <td>9.3</td>\n",
       "      <td>Two imprisoned men bond over a number of years...</td>\n",
       "      <td>80.0</td>\n",
       "      <td>Frank Darabont</td>\n",
       "      <td>Tim Robbins</td>\n",
       "      <td>Morgan Freeman</td>\n",
       "      <td>Bob Gunton</td>\n",
       "      <td>William Sadler</td>\n",
       "      <td>2343110</td>\n",
       "      <td>28,341,469</td>\n",
       "    </tr>\n",
       "    <tr>\n",
       "      <th>1</th>\n",
       "      <td>https://m.media-amazon.com/images/M/MV5BM2MyNj...</td>\n",
       "      <td>The Godfather</td>\n",
       "      <td>1972</td>\n",
       "      <td>A</td>\n",
       "      <td>175 min</td>\n",
       "      <td>Crime, Drama</td>\n",
       "      <td>9.2</td>\n",
       "      <td>An organized crime dynasty's aging patriarch t...</td>\n",
       "      <td>100.0</td>\n",
       "      <td>Francis Ford Coppola</td>\n",
       "      <td>Marlon Brando</td>\n",
       "      <td>Al Pacino</td>\n",
       "      <td>James Caan</td>\n",
       "      <td>Diane Keaton</td>\n",
       "      <td>1620367</td>\n",
       "      <td>134,966,411</td>\n",
       "    </tr>\n",
       "    <tr>\n",
       "      <th>2</th>\n",
       "      <td>https://m.media-amazon.com/images/M/MV5BMTMxNT...</td>\n",
       "      <td>The Dark Knight</td>\n",
       "      <td>2008</td>\n",
       "      <td>UA</td>\n",
       "      <td>152 min</td>\n",
       "      <td>Action, Crime, Drama</td>\n",
       "      <td>9.0</td>\n",
       "      <td>When the menace known as the Joker wreaks havo...</td>\n",
       "      <td>84.0</td>\n",
       "      <td>Christopher Nolan</td>\n",
       "      <td>Christian Bale</td>\n",
       "      <td>Heath Ledger</td>\n",
       "      <td>Aaron Eckhart</td>\n",
       "      <td>Michael Caine</td>\n",
       "      <td>2303232</td>\n",
       "      <td>534,858,444</td>\n",
       "    </tr>\n",
       "    <tr>\n",
       "      <th>3</th>\n",
       "      <td>https://m.media-amazon.com/images/M/MV5BMWMwMG...</td>\n",
       "      <td>The Godfather: Part II</td>\n",
       "      <td>1974</td>\n",
       "      <td>A</td>\n",
       "      <td>202 min</td>\n",
       "      <td>Crime, Drama</td>\n",
       "      <td>9.0</td>\n",
       "      <td>The early life and career of Vito Corleone in ...</td>\n",
       "      <td>90.0</td>\n",
       "      <td>Francis Ford Coppola</td>\n",
       "      <td>Al Pacino</td>\n",
       "      <td>Robert De Niro</td>\n",
       "      <td>Robert Duvall</td>\n",
       "      <td>Diane Keaton</td>\n",
       "      <td>1129952</td>\n",
       "      <td>57,300,000</td>\n",
       "    </tr>\n",
       "    <tr>\n",
       "      <th>4</th>\n",
       "      <td>https://m.media-amazon.com/images/M/MV5BMWU4N2...</td>\n",
       "      <td>12 Angry Men</td>\n",
       "      <td>1957</td>\n",
       "      <td>U</td>\n",
       "      <td>96 min</td>\n",
       "      <td>Crime, Drama</td>\n",
       "      <td>9.0</td>\n",
       "      <td>A jury holdout attempts to prevent a miscarria...</td>\n",
       "      <td>96.0</td>\n",
       "      <td>Sidney Lumet</td>\n",
       "      <td>Henry Fonda</td>\n",
       "      <td>Lee J. Cobb</td>\n",
       "      <td>Martin Balsam</td>\n",
       "      <td>John Fiedler</td>\n",
       "      <td>689845</td>\n",
       "      <td>4,360,000</td>\n",
       "    </tr>\n",
       "  </tbody>\n",
       "</table>\n",
       "</div>"
      ],
      "text/plain": [
       "                                         Poster_Link  \\\n",
       "0  https://m.media-amazon.com/images/M/MV5BMDFkYT...   \n",
       "1  https://m.media-amazon.com/images/M/MV5BM2MyNj...   \n",
       "2  https://m.media-amazon.com/images/M/MV5BMTMxNT...   \n",
       "3  https://m.media-amazon.com/images/M/MV5BMWMwMG...   \n",
       "4  https://m.media-amazon.com/images/M/MV5BMWU4N2...   \n",
       "\n",
       "               Series_Title Released_Year Certificate  Runtime  \\\n",
       "0  The Shawshank Redemption          1994           A  142 min   \n",
       "1             The Godfather          1972           A  175 min   \n",
       "2           The Dark Knight          2008          UA  152 min   \n",
       "3    The Godfather: Part II          1974           A  202 min   \n",
       "4              12 Angry Men          1957           U   96 min   \n",
       "\n",
       "                  Genre  IMDB_Rating  \\\n",
       "0                 Drama          9.3   \n",
       "1          Crime, Drama          9.2   \n",
       "2  Action, Crime, Drama          9.0   \n",
       "3          Crime, Drama          9.0   \n",
       "4          Crime, Drama          9.0   \n",
       "\n",
       "                                            Overview  Meta_score  \\\n",
       "0  Two imprisoned men bond over a number of years...        80.0   \n",
       "1  An organized crime dynasty's aging patriarch t...       100.0   \n",
       "2  When the menace known as the Joker wreaks havo...        84.0   \n",
       "3  The early life and career of Vito Corleone in ...        90.0   \n",
       "4  A jury holdout attempts to prevent a miscarria...        96.0   \n",
       "\n",
       "               Director           Star1           Star2          Star3  \\\n",
       "0        Frank Darabont     Tim Robbins  Morgan Freeman     Bob Gunton   \n",
       "1  Francis Ford Coppola   Marlon Brando       Al Pacino     James Caan   \n",
       "2     Christopher Nolan  Christian Bale    Heath Ledger  Aaron Eckhart   \n",
       "3  Francis Ford Coppola       Al Pacino  Robert De Niro  Robert Duvall   \n",
       "4          Sidney Lumet     Henry Fonda     Lee J. Cobb  Martin Balsam   \n",
       "\n",
       "            Star4  No_of_Votes        Gross  \n",
       "0  William Sadler      2343110   28,341,469  \n",
       "1    Diane Keaton      1620367  134,966,411  \n",
       "2   Michael Caine      2303232  534,858,444  \n",
       "3    Diane Keaton      1129952   57,300,000  \n",
       "4    John Fiedler       689845    4,360,000  "
      ]
     },
     "execution_count": 5,
     "metadata": {},
     "output_type": "execute_result"
    }
   ],
   "source": [
    "data.head()"
   ]
  },
  {
   "cell_type": "code",
   "execution_count": 7,
   "id": "9ee2a2d8",
   "metadata": {},
   "outputs": [
    {
     "data": {
      "text/plain": [
       "'when the menace known as the joker wreaks havoc and chaos on the people of gotham, batman must accept one of the greatest psychological and physical tests of his ability to fight injustice.'"
      ]
     },
     "execution_count": 7,
     "metadata": {},
     "output_type": "execute_result"
    }
   ],
   "source": [
    "data[\"Overview\"][2].lower()"
   ]
  },
  {
   "cell_type": "code",
   "execution_count": 8,
   "id": "0e018bbb",
   "metadata": {},
   "outputs": [
    {
     "data": {
      "text/plain": [
       "'sure, here is some text in upper case. i hope this meets your requirements!'"
      ]
     },
     "execution_count": 8,
     "metadata": {},
     "output_type": "execute_result"
    }
   ],
   "source": [
    "string.lower()"
   ]
  },
  {
   "cell_type": "code",
   "execution_count": 16,
   "id": "809b30f9",
   "metadata": {},
   "outputs": [],
   "source": [
    "#apply on hole data\n",
    "data[\"Overview\"] = data[\"Overview\"].apply(lambda x:x.lower())"
   ]
  },
  {
   "cell_type": "markdown",
   "id": "c9191292",
   "metadata": {},
   "source": [
    "#  Remove HTML tages "
   ]
  },
  {
   "cell_type": "code",
   "execution_count": 20,
   "id": "2828fafb",
   "metadata": {},
   "outputs": [],
   "source": [
    "# use regular experission\n",
    "html = \"<p>This is a <strong>sample</strong> paragraph with <a href=https://www.example.com>a link</a>.</p>\""
   ]
  },
  {
   "cell_type": "code",
   "execution_count": 21,
   "id": "a9644942",
   "metadata": {},
   "outputs": [],
   "source": [
    "import re\n",
    "def remove_html(text):\n",
    "    pattern = re.compile(\"<.*?>\")\n",
    "    return pattern.sub(r\"\",text)"
   ]
  },
  {
   "cell_type": "code",
   "execution_count": 22,
   "id": "fa5b929a",
   "metadata": {},
   "outputs": [
    {
     "data": {
      "text/plain": [
       "'This is a sample paragraph with a link.'"
      ]
     },
     "execution_count": 22,
     "metadata": {},
     "output_type": "execute_result"
    }
   ],
   "source": [
    "remove_html(html)"
   ]
  },
  {
   "cell_type": "code",
   "execution_count": 24,
   "id": "6b4a77e1",
   "metadata": {},
   "outputs": [],
   "source": [
    "# apply on hole data\n",
    "data[\"Overview\"] = data[\"Overview\"].apply(remove_html)"
   ]
  },
  {
   "cell_type": "markdown",
   "id": "34eb477f",
   "metadata": {},
   "source": [
    "# Remove punctuation "
   ]
  },
  {
   "cell_type": "code",
   "execution_count": 25,
   "id": "85121ec1",
   "metadata": {},
   "outputs": [],
   "source": [
    "pun = \"The rain was pouring down, hitting the windows with a rhythmic tap-tap-tap; the thunder roared in the distance, and the wind howled through the trees, making the whole night feel alive with the chaotic symphony of nature's fury!\""
   ]
  },
  {
   "cell_type": "code",
   "execution_count": 28,
   "id": "74a80af8",
   "metadata": {},
   "outputs": [],
   "source": [
    "import string \n",
    "remove = string.punctuation"
   ]
  },
  {
   "cell_type": "code",
   "execution_count": 29,
   "id": "8165c4a5",
   "metadata": {},
   "outputs": [],
   "source": [
    "def remove_punc(text):\n",
    "    return text.translate(str.maketrans(\"\",\"\",remove))"
   ]
  },
  {
   "cell_type": "code",
   "execution_count": 30,
   "id": "67e92ba1",
   "metadata": {},
   "outputs": [
    {
     "data": {
      "text/plain": [
       "'The rain was pouring down hitting the windows with a rhythmic taptaptap the thunder roared in the distance and the wind howled through the trees making the whole night feel alive with the chaotic symphony of natures fury'"
      ]
     },
     "execution_count": 30,
     "metadata": {},
     "output_type": "execute_result"
    }
   ],
   "source": [
    "remove_punc(pun)"
   ]
  },
  {
   "cell_type": "code",
   "execution_count": 33,
   "id": "59101ebf",
   "metadata": {},
   "outputs": [],
   "source": [
    "# applyed on hole data aset\n",
    "data[\"Overview\"] = data[\"Overview\"].apply(remove_punc)"
   ]
  },
  {
   "cell_type": "markdown",
   "id": "6e34c699",
   "metadata": {},
   "source": [
    "# spelling correction\n"
   ]
  },
  {
   "cell_type": "code",
   "execution_count": 41,
   "id": "40e3f3a4",
   "metadata": {},
   "outputs": [],
   "source": [
    "spell = \"Thee quik browne fox jumpt ovre the lazy dog.\""
   ]
  },
  {
   "cell_type": "code",
   "execution_count": 42,
   "id": "b1a70dcd",
   "metadata": {},
   "outputs": [],
   "source": [
    "from textblob import TextBlob"
   ]
  },
  {
   "cell_type": "code",
   "execution_count": 43,
   "id": "f497fada",
   "metadata": {},
   "outputs": [
    {
     "data": {
      "text/plain": [
       "'Thee quick brown fox jump over the lazy dog.'"
      ]
     },
     "execution_count": 43,
     "metadata": {},
     "output_type": "execute_result"
    }
   ],
   "source": [
    "textb = TextBlob(spell)\n",
    "textb.correct().string"
   ]
  },
  {
   "cell_type": "markdown",
   "id": "6bfea4ca",
   "metadata": {},
   "source": [
    "# remove stop words"
   ]
  },
  {
   "cell_type": "code",
   "execution_count": 46,
   "id": "e38ccb8c",
   "metadata": {
    "scrolled": true
   },
   "outputs": [
    {
     "data": {
      "text/plain": [
       "['i',\n",
       " 'me',\n",
       " 'my',\n",
       " 'myself',\n",
       " 'we',\n",
       " 'our',\n",
       " 'ours',\n",
       " 'ourselves',\n",
       " 'you',\n",
       " \"you're\",\n",
       " \"you've\",\n",
       " \"you'll\",\n",
       " \"you'd\",\n",
       " 'your',\n",
       " 'yours',\n",
       " 'yourself',\n",
       " 'yourselves',\n",
       " 'he',\n",
       " 'him',\n",
       " 'his',\n",
       " 'himself',\n",
       " 'she',\n",
       " \"she's\",\n",
       " 'her',\n",
       " 'hers',\n",
       " 'herself',\n",
       " 'it',\n",
       " \"it's\",\n",
       " 'its',\n",
       " 'itself',\n",
       " 'they',\n",
       " 'them',\n",
       " 'their',\n",
       " 'theirs',\n",
       " 'themselves',\n",
       " 'what',\n",
       " 'which',\n",
       " 'who',\n",
       " 'whom',\n",
       " 'this',\n",
       " 'that',\n",
       " \"that'll\",\n",
       " 'these',\n",
       " 'those',\n",
       " 'am',\n",
       " 'is',\n",
       " 'are',\n",
       " 'was',\n",
       " 'were',\n",
       " 'be',\n",
       " 'been',\n",
       " 'being',\n",
       " 'have',\n",
       " 'has',\n",
       " 'had',\n",
       " 'having',\n",
       " 'do',\n",
       " 'does',\n",
       " 'did',\n",
       " 'doing',\n",
       " 'a',\n",
       " 'an',\n",
       " 'the',\n",
       " 'and',\n",
       " 'but',\n",
       " 'if',\n",
       " 'or',\n",
       " 'because',\n",
       " 'as',\n",
       " 'until',\n",
       " 'while',\n",
       " 'of',\n",
       " 'at',\n",
       " 'by',\n",
       " 'for',\n",
       " 'with',\n",
       " 'about',\n",
       " 'against',\n",
       " 'between',\n",
       " 'into',\n",
       " 'through',\n",
       " 'during',\n",
       " 'before',\n",
       " 'after',\n",
       " 'above',\n",
       " 'below',\n",
       " 'to',\n",
       " 'from',\n",
       " 'up',\n",
       " 'down',\n",
       " 'in',\n",
       " 'out',\n",
       " 'on',\n",
       " 'off',\n",
       " 'over',\n",
       " 'under',\n",
       " 'again',\n",
       " 'further',\n",
       " 'then',\n",
       " 'once',\n",
       " 'here',\n",
       " 'there',\n",
       " 'when',\n",
       " 'where',\n",
       " 'why',\n",
       " 'how',\n",
       " 'all',\n",
       " 'any',\n",
       " 'both',\n",
       " 'each',\n",
       " 'few',\n",
       " 'more',\n",
       " 'most',\n",
       " 'other',\n",
       " 'some',\n",
       " 'such',\n",
       " 'no',\n",
       " 'nor',\n",
       " 'not',\n",
       " 'only',\n",
       " 'own',\n",
       " 'same',\n",
       " 'so',\n",
       " 'than',\n",
       " 'too',\n",
       " 'very',\n",
       " 's',\n",
       " 't',\n",
       " 'can',\n",
       " 'will',\n",
       " 'just',\n",
       " 'don',\n",
       " \"don't\",\n",
       " 'should',\n",
       " \"should've\",\n",
       " 'now',\n",
       " 'd',\n",
       " 'll',\n",
       " 'm',\n",
       " 'o',\n",
       " 're',\n",
       " 've',\n",
       " 'y',\n",
       " 'ain',\n",
       " 'aren',\n",
       " \"aren't\",\n",
       " 'couldn',\n",
       " \"couldn't\",\n",
       " 'didn',\n",
       " \"didn't\",\n",
       " 'doesn',\n",
       " \"doesn't\",\n",
       " 'hadn',\n",
       " \"hadn't\",\n",
       " 'hasn',\n",
       " \"hasn't\",\n",
       " 'haven',\n",
       " \"haven't\",\n",
       " 'isn',\n",
       " \"isn't\",\n",
       " 'ma',\n",
       " 'mightn',\n",
       " \"mightn't\",\n",
       " 'mustn',\n",
       " \"mustn't\",\n",
       " 'needn',\n",
       " \"needn't\",\n",
       " 'shan',\n",
       " \"shan't\",\n",
       " 'shouldn',\n",
       " \"shouldn't\",\n",
       " 'wasn',\n",
       " \"wasn't\",\n",
       " 'weren',\n",
       " \"weren't\",\n",
       " 'won',\n",
       " \"won't\",\n",
       " 'wouldn',\n",
       " \"wouldn't\"]"
      ]
     },
     "execution_count": 46,
     "metadata": {},
     "output_type": "execute_result"
    }
   ],
   "source": [
    "from nltk.corpus import stopwords\n",
    "stopwords.words(\"english\")"
   ]
  },
  {
   "cell_type": "code",
   "execution_count": 55,
   "id": "3a7c3dd9",
   "metadata": {},
   "outputs": [],
   "source": [
    "def remove_stop_words(text):\n",
    "    new_text = []\n",
    "    \n",
    "    for i in text.split():\n",
    "        if i in stopwords.words(\"english\"):\n",
    "            new_text.append(\"\")\n",
    "        else:\n",
    "            new_text.append(i)\n",
    "            \n",
    "    x = new_text[:]\n",
    "    new_text.clear()\n",
    "    return \" \".join(x)"
   ]
  },
  {
   "cell_type": "code",
   "execution_count": 56,
   "id": "d6e048a8",
   "metadata": {},
   "outputs": [
    {
     "data": {
      "text/plain": [
       "\"The rain  pouring down, hitting  windows   rhythmic tap-tap-tap;  thunder roared   distance,   wind howled   trees, making  whole night feel alive   chaotic symphony  nature's fury!\""
      ]
     },
     "execution_count": 56,
     "metadata": {},
     "output_type": "execute_result"
    }
   ],
   "source": [
    "remove_stop_words(pun)"
   ]
  },
  {
   "cell_type": "code",
   "execution_count": 58,
   "id": "3d755eb9",
   "metadata": {},
   "outputs": [],
   "source": [
    "data[\"Overview\"] = data[\"Overview\"].apply(remove_stop_words)"
   ]
  },
  {
   "cell_type": "markdown",
   "id": "4c32958e",
   "metadata": {},
   "source": [
    "# handel emojis"
   ]
  },
  {
   "cell_type": "code",
   "execution_count": 61,
   "id": "994ea562",
   "metadata": {},
   "outputs": [],
   "source": [
    "import emoji\n",
    "emo = \"🌟 Hello! 🌈 How are you today? 🌺✨\""
   ]
  },
  {
   "cell_type": "code",
   "execution_count": 62,
   "id": "68444067",
   "metadata": {},
   "outputs": [
    {
     "data": {
      "text/plain": [
       "':glowing_star: Hello! :rainbow: How are you today? :hibiscus::sparkles:'"
      ]
     },
     "execution_count": 62,
     "metadata": {},
     "output_type": "execute_result"
    }
   ],
   "source": [
    "emoji.demojize(emo)"
   ]
  },
  {
   "cell_type": "markdown",
   "id": "f1621228",
   "metadata": {},
   "source": [
    "# Tokenization "
   ]
  },
  {
   "cell_type": "code",
   "execution_count": 63,
   "id": "aef929b6",
   "metadata": {},
   "outputs": [
    {
     "data": {
      "text/plain": [
       "['🌟', 'Hello!', '🌈', 'How', 'are', 'you', 'today?', '🌺✨']"
      ]
     },
     "execution_count": 63,
     "metadata": {},
     "output_type": "execute_result"
    }
   ],
   "source": [
    "# 1 tecq is split the words base on space or any how \n",
    "emo.split()"
   ]
  },
  {
   "cell_type": "code",
   "execution_count": 71,
   "id": "5e49876a",
   "metadata": {},
   "outputs": [
    {
     "name": "stderr",
     "output_type": "stream",
     "text": [
      "[nltk_data] Downloading package punkt to C:\\Users\\yash\n",
      "[nltk_data]     mohite\\AppData\\Roaming\\nltk_data...\n",
      "[nltk_data]   Unzipping tokenizers\\punkt.zip.\n"
     ]
    },
    {
     "data": {
      "text/plain": [
       "True"
      ]
     },
     "execution_count": 71,
     "metadata": {},
     "output_type": "execute_result"
    }
   ],
   "source": [
    "# use NLTK \n",
    "from nltk.tokenize import word_tokenize,sent_tokenize\n",
    "# Download the Punkt tokenizer models (if not already downloaded)\n",
    "nltk.download('punkt')"
   ]
  },
  {
   "cell_type": "code",
   "execution_count": 72,
   "id": "db76fff0",
   "metadata": {},
   "outputs": [
    {
     "data": {
      "text/plain": [
       "['🌟', 'Hello', '!', '🌈', 'How', 'are', 'you', 'today', '?', '🌺✨']"
      ]
     },
     "execution_count": 72,
     "metadata": {},
     "output_type": "execute_result"
    }
   ],
   "source": [
    "word_tokenize(emo)"
   ]
  },
  {
   "cell_type": "code",
   "execution_count": 73,
   "id": "b41c49a5",
   "metadata": {},
   "outputs": [
    {
     "data": {
      "text/plain": [
       "0      [two, imprisoned, men, bond, number, years, fi...\n",
       "1      [organized, crime, dynastys, aging, patriarch,...\n",
       "2      [menace, known, joker, wreaks, havoc, chaos, p...\n",
       "3      [early, life, career, vito, corleone, 1920s, n...\n",
       "4      [jury, holdout, attempts, prevent, miscarriage...\n",
       "                             ...                        \n",
       "995    [young, new, york, socialite, becomes, interes...\n",
       "996    [sprawling, epic, covering, life, texas, cattl...\n",
       "997    [hawaii, 1941, private, cruelly, punished, box...\n",
       "998    [several, survivors, torpedoed, merchant, ship...\n",
       "999    [man, london, tries, help, counterespionage, a...\n",
       "Name: Overview, Length: 1000, dtype: object"
      ]
     },
     "execution_count": 73,
     "metadata": {},
     "output_type": "execute_result"
    }
   ],
   "source": [
    "data[\"Overview\"].apply(word_tokenize)"
   ]
  },
  {
   "cell_type": "code",
   "execution_count": 74,
   "id": "f006cfff",
   "metadata": {},
   "outputs": [
    {
     "data": {
      "text/plain": [
       "['🌟 Hello!', '🌈 How are you today?', '🌺✨']"
      ]
     },
     "execution_count": 74,
     "metadata": {},
     "output_type": "execute_result"
    }
   ],
   "source": [
    "sent_tokenize(emo)"
   ]
  },
  {
   "cell_type": "code",
   "execution_count": 75,
   "id": "8053aaad",
   "metadata": {},
   "outputs": [
    {
     "data": {
      "text/plain": [
       "0      [two imprisoned men bond   number  years findi...\n",
       "1      [ organized crime dynastys aging patriarch tra...\n",
       "2      [  menace known   joker wreaks havoc  chaos   ...\n",
       "3      [ early life  career  vito corleone  1920s new...\n",
       "4      [ jury holdout attempts  prevent  miscarriage ...\n",
       "                             ...                        \n",
       "995    [ young new york socialite becomes interested ...\n",
       "996    [sprawling epic covering  life   texas cattle ...\n",
       "997    [ hawaii  1941  private  cruelly punished   bo...\n",
       "998    [several survivors   torpedoed merchant ship  ...\n",
       "999    [ man  london tries  help  counterespionage ag...\n",
       "Name: Overview, Length: 1000, dtype: object"
      ]
     },
     "execution_count": 75,
     "metadata": {},
     "output_type": "execute_result"
    }
   ],
   "source": [
    "data[\"Overview\"].apply(sent_tokenize)"
   ]
  },
  {
   "cell_type": "code",
   "execution_count": 77,
   "id": "15460dca",
   "metadata": {},
   "outputs": [
    {
     "name": "stdout",
     "output_type": "stream",
     "text": [
      "\u001b[38;5;2m✔ Download and installation successful\u001b[0m\n",
      "You can now load the package via spacy.load('en_core_web_sm')\n"
     ]
    }
   ],
   "source": [
    "# you can also use Spacy\n",
    "import spacy\n",
    "spacy.cli.download(\"en_core_web_sm\")\n",
    "nlp = spacy.load(\"en_core_web_sm\")"
   ]
  },
  {
   "cell_type": "code",
   "execution_count": 80,
   "id": "0f05e13c",
   "metadata": {},
   "outputs": [],
   "source": [
    "d = nlp(emo)"
   ]
  },
  {
   "cell_type": "code",
   "execution_count": 81,
   "id": "dbb92482",
   "metadata": {},
   "outputs": [
    {
     "name": "stdout",
     "output_type": "stream",
     "text": [
      "🌟\n",
      "Hello\n",
      "!\n",
      "🌈\n",
      "How\n",
      "are\n",
      "you\n",
      "today\n",
      "?\n",
      "🌺\n",
      "✨\n"
     ]
    }
   ],
   "source": [
    "for i in d:\n",
    "    print(i)"
   ]
  },
  {
   "cell_type": "markdown",
   "id": "3d8860ff",
   "metadata": {},
   "source": [
    "# stemming"
   ]
  },
  {
   "cell_type": "code",
   "execution_count": 82,
   "id": "da516997",
   "metadata": {},
   "outputs": [],
   "source": [
    "from nltk.stem.porter import PorterStemmer\n",
    "ps = PorterStemmer()\n",
    "def stemming(text):\n",
    "    return \" \".join([ps.stem(word) for word in text.split()])"
   ]
  },
  {
   "cell_type": "code",
   "execution_count": 90,
   "id": "517d9681",
   "metadata": {},
   "outputs": [],
   "source": [
    "st = \"Certainly! Could you please provide more details or specify the topic you'd like the paragraph to be about? This information will help me generate a more relevant and accurate response.\""
   ]
  },
  {
   "cell_type": "code",
   "execution_count": 91,
   "id": "ac5f846a",
   "metadata": {},
   "outputs": [
    {
     "data": {
      "text/plain": [
       "\"certainly! could you pleas provid more detail or specifi the topic you'd like the paragraph to be about? thi inform will help me gener a more relev and accur response.\""
      ]
     },
     "execution_count": 91,
     "metadata": {},
     "output_type": "execute_result"
    }
   ],
   "source": [
    "stemming(st)"
   ]
  },
  {
   "cell_type": "code",
   "execution_count": 93,
   "id": "fe30192c",
   "metadata": {},
   "outputs": [],
   "source": [
    "data[\"Overview\"] = data[\"Overview\"].apply(stemming)"
   ]
  },
  {
   "cell_type": "markdown",
   "id": "7d4fc4ab",
   "metadata": {},
   "source": [
    "# Lemmatization"
   ]
  },
  {
   "cell_type": "code",
   "execution_count": 99,
   "id": "96b1549d",
   "metadata": {},
   "outputs": [],
   "source": [
    "def lemmatize_text(text):\n",
    "    doc = nlp(text)\n",
    "    lemmatized_tokens = [token.lemma_ for token in doc]\n",
    "    return ' '.join(lemmatized_tokens)\n"
   ]
  },
  {
   "cell_type": "code",
   "execution_count": 110,
   "id": "147ecdba",
   "metadata": {},
   "outputs": [
    {
     "name": "stderr",
     "output_type": "stream",
     "text": [
      "[nltk_data] Downloading package wordnet to C:\\Users\\yash\n",
      "[nltk_data]     mohite\\AppData\\Roaming\\nltk_data...\n",
      "[nltk_data]   Package wordnet is already up-to-date!\n"
     ]
    }
   ],
   "source": [
    "nltk.download('wordnet')\n",
    "# Define a function for lemmatization\n",
    "# Initialize the WordNet lemmatizer\n",
    "lemmatizer = WordNetLemmatizer()\n",
    "def lemmatize_text_nltk(text):\n",
    "    tokens = word_tokenize(text)\n",
    "    lemmatized_tokens = [lemmatizer.lemmatize(token) for token in tokens]\n",
    "    return ' '.join(lemmatized_tokens)"
   ]
  },
  {
   "cell_type": "code",
   "execution_count": 101,
   "id": "0379375b",
   "metadata": {},
   "outputs": [
    {
     "data": {
      "text/plain": [
       "0      two imprison man bond number year find solac e...\n",
       "1      organ crime dynasti age patriarch transfer con...\n",
       "2      menac know joker wreak havoc chao peopl gotham...\n",
       "3      earli life career vito corleon 1920 new york c...\n",
       "4      juri holdout attempt prevent miscarriag justic...\n",
       "                             ...                        \n",
       "995    young new york socialit becom interest young m...\n",
       "996    sprawl epic cover life texa cattl rancher fami...\n",
       "997    hawaii 1941 privat cruelli punish box unit tea...\n",
       "998    sever survivor torpedo merchant ship world war...\n",
       "999    man london tri help counterespionag agent agen...\n",
       "Name: Overview, Length: 1000, dtype: object"
      ]
     },
     "execution_count": 101,
     "metadata": {},
     "output_type": "execute_result"
    }
   ],
   "source": [
    "data[\"Overview\"].apply(lemmatize_text)"
   ]
  },
  {
   "cell_type": "code",
   "execution_count": 111,
   "id": "b5ea6371",
   "metadata": {},
   "outputs": [
    {
     "data": {
      "text/plain": [
       "0      two imprison men bond number year find solac e...\n",
       "1      organ crime dynasti age patriarch transfer con...\n",
       "2      menac known joker wreak havoc chao peopl gotha...\n",
       "3      earli life career vito corleon 1920 new york c...\n",
       "4      juri holdout attempt prevent miscarriag justic...\n",
       "                             ...                        \n",
       "995    young new york socialit becom interest young m...\n",
       "996    sprawl epic cover life texa cattl rancher fami...\n",
       "997    hawaii 1941 privat cruelli punish box unit tea...\n",
       "998    sever survivor torpedo merchant ship world war...\n",
       "999    man london tri help counterespionag agent agen...\n",
       "Name: Overview, Length: 1000, dtype: object"
      ]
     },
     "execution_count": 111,
     "metadata": {},
     "output_type": "execute_result"
    }
   ],
   "source": [
    "data[\"Overview\"].apply(lemmatize_text_nltk)"
   ]
  },
  {
   "cell_type": "code",
   "execution_count": null,
   "id": "80a63fa8",
   "metadata": {},
   "outputs": [],
   "source": []
  }
 ],
 "metadata": {
  "kernelspec": {
   "display_name": "Python 3 (ipykernel)",
   "language": "python",
   "name": "python3"
  },
  "language_info": {
   "codemirror_mode": {
    "name": "ipython",
    "version": 3
   },
   "file_extension": ".py",
   "mimetype": "text/x-python",
   "name": "python",
   "nbconvert_exporter": "python",
   "pygments_lexer": "ipython3",
   "version": "3.10.6"
  }
 },
 "nbformat": 4,
 "nbformat_minor": 5
}
